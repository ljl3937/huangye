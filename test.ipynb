{
 "cells": [
  {
   "cell_type": "code",
   "execution_count": 2,
   "metadata": {},
   "outputs": [
    {
     "name": "stdout",
     "output_type": "stream",
     "text": [
      "[('北京', 'http://www.9928.tv/company/beijing/'), ('天津', 'http://www.9928.tv/company/tianjin/'), ('山东', 'http://www.9928.tv/company/shandong/'), ('河南', 'http://www.9928.tv/company/henan/'), ('河北', 'http://www.9928.tv/company/hebei/'), ('内蒙', 'http://www.9928.tv/company/neimeng/'), ('山西', 'http://www.9928.tv/company/shanxi/'), ('江西', 'http://www.9928.tv/company/jiangxi/'), ('四川', 'http://www.9928.tv/company/sichuan/'), ('重庆', 'http://www.9928.tv/company/chongqing/'), ('贵州', 'http://www.9928.tv/company/guizhou/'), ('云南', 'http://www.9928.tv/company/yunnan/'), ('上海', 'http://www.9928.tv/company/shanghai/'), ('江苏', 'http://www.9928.tv/company/jiangsu/'), ('安徽', 'http://www.9928.tv/company/anhui/'), ('浙江', 'http://www.9928.tv/company/zhejiang/'), ('甘肃', 'http://www.9928.tv/company/gansu/'), ('福建', 'http://www.9928.tv/company/fujian/'), ('湖北', 'http://www.9928.tv/company/hubei/'), ('湖南', 'http://www.9928.tv/company/hunan/'), ('广东', 'http://www.9928.tv/company/guangdong/'), ('广西', 'http://www.9928.tv/company/guangxi/'), ('吉林', 'http://www.9928.tv/company/jilin/'), ('辽宁', 'http://www.9928.tv/company/liaoning/'), ('黑龙江', 'http://www.9928.tv/company/heilongjiang/'), ('陕西', 'http://www.9928.tv/company/sshanxi/'), ('西藏', 'http://www.9928.tv/company/xizang/'), ('宁夏', 'http://www.9928.tv/company/ningxia/'), ('青海', 'http://www.9928.tv/company/qinghai/'), ('海南', 'http://www.9928.tv/company/hainan/'), ('台湾', 'http://www.9928.tv/company/taiwan/'), ('香港', 'http://www.9928.tv/company/xianggang/'), ('澳门', 'http://www.9928.tv/company/aomen/'), ('新疆', 'http://www.9928.tv/company/xinjiang/')]\n"
     ]
    }
   ],
   "source": [
    "import re\n",
    "from multiprocessing import Pool\n",
    "import requests\n",
    "from bs4 import BeautifulSoup\n",
    "import pymongo\n",
    "\n",
    "from myconf.meijiu_config import *\n",
    "import time\n",
    "import codecs\n",
    "\n",
    "def download(url):\n",
    "    headers = {'User-Agent': 'Mozilla/5.0 (X11; Linux x86_64) AppleWebKit/537.36 (KHTML, like Gecko) Chrome/96.0.4664.45 Safari/537.36'}\n",
    "    response = requests.get(url, headers=headers)\n",
    "    return response.text\n",
    "\n",
    "def getCityURL():\n",
    "    html = download(\"http://www.9928.tv/company\")\n",
    "    soup = BeautifulSoup(html, 'lxml')\n",
    "    body = soup.body\n",
    "    urls = []\n",
    "    for pro in ADDRESS:\n",
    "        data_main = body.find_all('a',text=pro)\n",
    "        for a in data_main:\n",
    "            hr = a['href']\n",
    "            if 'http' not in hr:\n",
    "                url = 'http://www.9928.tv' + hr\n",
    "                tmp = (a.text, url)\n",
    "                urls.append(tmp)\n",
    "    return urls\n",
    "urls = getCityURL()\n",
    "print(urls)"
   ]
  },
  {
   "cell_type": "code",
   "execution_count": null,
   "metadata": {},
   "outputs": [],
   "source": [
    "city_url = urls[0]\n",
    "args = ADDRESS\n",
    "path = '/run/media/jialin/Seagate/work/data/' + args\n",
    "base_url = city_url[0]\n",
    "type = city_url[1]\n",
    "time.sleep(3)\n",
    "tels = []\n",
    "pn = 1\n",
    "f = codecs.open(path, 'a', 'utf8')\n",
    "while pn > 0:\n",
    "    url = base_url + str(pn)\n",
    "    print(url)\n",
    "    html = download(url)\n",
    "    if html:\n",
    "        print('正在爬取' + type + '第' + str(pn) + '页')\n",
    "        soup = BeautifulSoup(html, 'lxml')\n",
    "        body = soup.body\n",
    "        data_main = body.find('div', {'class': 'qyk_css08'})\n",
    "        if data_main:\n",
    "            qys = data_main.find_all('div', {'class':'qy_div'})\n",
    "for url in urls:\n",
    "    for title in url:\n",
    "        if \"北京\" in title:\n",
    "            tels = getTels(url[title], title, path)"
   ]
  },
  {
   "cell_type": "code",
   "execution_count": 1,
   "metadata": {},
   "outputs": [],
   "source": [
    "import os\n",
    "with open('all.txt', 'w') as f:\n",
    "    list = os.listdir('data')\n",
    "    for i in range(0,len(list)):\n",
    "        path = os.path.join('data',list[i])\n",
    "        if os.path.isfile(path):\n",
    "            with open(path, \"r\") as f1:\n",
    "                data = f1.read()\n",
    "                f.write(data)\n",
    "                f1.close()\n",
    "f.close()"
   ]
  }
 ],
 "metadata": {
  "interpreter": {
   "hash": "85d24ec98c15bba8226f1165e70bcabdf81a36002a6ee28f283fb372e41d9fc0"
  },
  "kernelspec": {
   "display_name": "Python 3.9.9 64-bit ('huangye': venv)",
   "language": "python",
   "name": "python3"
  },
  "language_info": {
   "codemirror_mode": {
    "name": "ipython",
    "version": 3
   },
   "file_extension": ".py",
   "mimetype": "text/x-python",
   "name": "python",
   "nbconvert_exporter": "python",
   "pygments_lexer": "ipython3",
   "version": "3.9.9"
  },
  "orig_nbformat": 4
 },
 "nbformat": 4,
 "nbformat_minor": 2
}
